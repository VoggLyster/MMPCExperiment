{
 "cells": [
  {
   "cell_type": "code",
   "execution_count": 1,
   "metadata": {},
   "outputs": [],
   "source": [
    "import os\n",
    "import glob\n",
    "import json\n",
    "import scipy\n",
    "import numpy as np\n",
    "import pandas as pd\n",
    "\n",
    "import seaborn as sns\n",
    "sns.set_theme()\n",
    "sns.set_context(\"paper\")\n",
    "\n",
    "import matplotlib.pyplot as plt"
   ]
  },
  {
   "cell_type": "markdown",
   "metadata": {},
   "source": [
    "### i. Load experiment results from .json files"
   ]
  },
  {
   "cell_type": "code",
   "execution_count": 2,
   "metadata": {},
   "outputs": [
    {
     "name": "stdout",
     "output_type": "stream",
     "text": [
      "Number of participants (N):  30\n"
     ]
    }
   ],
   "source": [
    "DATADIR = \"./haid_experiment_data_files\"\n",
    "\n",
    "all_data = []\n",
    "for path in glob.iglob(f\"{DATADIR}/*.json\"):\n",
    "    with open(path, 'r') as f:\n",
    "        jsonobj = json.load(f)\n",
    "    all_data.append(jsonobj)\n",
    "\n",
    "print(\"Number of participants (N): \", len(all_data))\n",
    "\n",
    "# Ensure all responses are complete\n",
    "assert all([d[\"waetresult\"][\"@state\"] == \"complete\" for d in all_data])"
   ]
  },
  {
   "cell_type": "markdown",
   "metadata": {},
   "source": [
    "### ii. Extract, sort and perform relevant transformations on the .json data"
   ]
  },
  {
   "cell_type": "markdown",
   "metadata": {},
   "source": [
    "##### Extract top-level reference information"
   ]
  },
  {
   "cell_type": "code",
   "execution_count": 3,
   "metadata": {},
   "outputs": [
    {
     "name": "stdout",
     "output_type": "stream",
     "text": [
      "{'0': 'Piano Low', '12': 'Piano Mid', '25': 'Piano High', '37': 'Double Bass', '50': 'Tuba', '62': 'Viola', '75': 'Oboe', '87': 'Violin', '100': 'Flute'}\n",
      "{'Piano Low': 0, 'Piano Mid': 1, 'Piano High': 2, 'Double Bass': 3, 'Tuba': 4, 'Viola': 5, 'Oboe': 6, 'Violin': 7, 'Flute': 8, 'Bass': 3, 'PianoLow': 0, 'PianoMid': 1, 'PianoHigh': 2}\n",
      "{'Piano Low': 0, 'Piano Mid': 0, 'Piano High': 0, 'Double Bass': 0, 'Tuba': 0, 'Viola': 0, 'Oboe': 0, 'Violin': 0, 'Flute': 0, 'Bass': 0, 'PianoLow': 0, 'PianoMid': 0, 'PianoHigh': 0}\n"
     ]
    }
   ],
   "source": [
    "META_DICT  = all_data[0][\"waetresult\"]\n",
    "PAGES      = META_DICT[\"waet\"][\"page\"]\n",
    "PAGE_0     = PAGES[0]\n",
    "SCALE_LABS = PAGE_0[\"interface\"][\"scales\"][\"scalelabel\"]\n",
    "\n",
    "STRVALUE_2_INSTR_DICT = {\n",
    "    obj[\"@position\"]: obj[\"#text\"] for obj in SCALE_LABS\n",
    "}\n",
    "\n",
    "INSTR_2_LABEL_DICT = {\n",
    "    instr: ix for ix, instr in \n",
    "        enumerate(STRVALUE_2_INSTR_DICT.values())\n",
    "}\n",
    "\n",
    "# Add auxillary keys to the transformation dict,\n",
    "# to account for the variation in naming schemes\n",
    "# between the file name (ground truth) and the label\n",
    "# shown to the participant\n",
    "INSTR_2_LABEL_DICT.update({\n",
    "    \"Bass\"     : INSTR_2_LABEL_DICT[\"Double Bass\"],\n",
    "    \"PianoLow\" : INSTR_2_LABEL_DICT[\"Piano Low\"],\n",
    "    \"PianoMid\" : INSTR_2_LABEL_DICT[\"Piano Mid\"],\n",
    "    \"PianoHigh\": INSTR_2_LABEL_DICT[\"Piano High\"]\n",
    "})\n",
    "\n",
    "INSTR_COUNTS = {\n",
    "    k: 0 for k in INSTR_2_LABEL_DICT.keys()\n",
    "}\n",
    "\n",
    "print(STRVALUE_2_INSTR_DICT)\n",
    "print(INSTR_2_LABEL_DICT)\n",
    "print(INSTR_COUNTS)"
   ]
  },
  {
   "cell_type": "markdown",
   "metadata": {},
   "source": [
    "##### Construct trial indexers to split results across experimental conditions (articulation, algo)"
   ]
  },
  {
   "cell_type": "code",
   "execution_count": 4,
   "metadata": {},
   "outputs": [
    {
     "name": "stdout",
     "output_type": "stream",
     "text": [
      "{'Piano Low': 0, 'Piano Mid': 0, 'Piano High': 0, 'Double Bass': 0, 'Tuba': 9, 'Viola': 9, 'Oboe': 9, 'Violin': 9, 'Flute': 9, 'Bass': 9, 'PianoLow': 9, 'PianoMid': 9, 'PianoHigh': 9}\n"
     ]
    }
   ],
   "source": [
    "CONDITION0 = 'NoAlgo'\n",
    "CONDITION1 = 'CompFreq'\n",
    "CONDITION2 = 'Reinforced'\n",
    "INTERACT0 = 'Staccato'\n",
    "INTERACT1 = 'Legato'\n",
    "INTERACT2 = 'Mix'\n",
    "\n",
    "ALGOIX = 0\n",
    "ARTIIX = 1\n",
    "INSTIX = 2\n",
    "algorithm_dict    = {}\n",
    "articulation_dict = {}\n",
    "\n",
    "for cur_page in PAGES:\n",
    "    page_id   = cur_page[\"@id\"]\n",
    "    elem_info = cur_page[\"audioelement\"]\n",
    "    audio_id  = elem_info[\"@id\"]\n",
    "    cond_info = audio_id.split('_')    \n",
    "    algorithm_dict[page_id]    = cond_info[ALGOIX]\n",
    "    articulation_dict[page_id] = cond_info[ARTIIX]\n",
    "    INSTR_COUNTS[cond_info[INSTIX]] += 1\n",
    "    \n",
    "algorithm_sr    = pd.Series(data=algorithm_dict   , name=\"Algorithm\")\n",
    "articulation_sr = pd.Series(data=articulation_dict, name=\"Articulation\")\n",
    "print(INSTR_COUNTS)"
   ]
  },
  {
   "cell_type": "markdown",
   "metadata": {},
   "source": [
    "##### Construct a comparison matrix with ground-truth values across all trials "
   ]
  },
  {
   "cell_type": "code",
   "execution_count": 5,
   "metadata": {},
   "outputs": [
    {
     "data": {
      "text/html": [
       "<div>\n",
       "<style scoped>\n",
       "    .dataframe tbody tr th:only-of-type {\n",
       "        vertical-align: middle;\n",
       "    }\n",
       "\n",
       "    .dataframe tbody tr th {\n",
       "        vertical-align: top;\n",
       "    }\n",
       "\n",
       "    .dataframe thead th {\n",
       "        text-align: right;\n",
       "    }\n",
       "</style>\n",
       "<table border=\"1\" class=\"dataframe\">\n",
       "  <thead>\n",
       "    <tr style=\"text-align: right;\">\n",
       "      <th></th>\n",
       "      <th>Piano Low</th>\n",
       "      <th>Piano Mid</th>\n",
       "      <th>Piano High</th>\n",
       "      <th>Double Bass</th>\n",
       "      <th>Tuba</th>\n",
       "      <th>Viola</th>\n",
       "      <th>Oboe</th>\n",
       "      <th>Violin</th>\n",
       "      <th>Flute</th>\n",
       "    </tr>\n",
       "  </thead>\n",
       "  <tbody>\n",
       "    <tr>\n",
       "      <th>page_0</th>\n",
       "      <td>0</td>\n",
       "      <td>0</td>\n",
       "      <td>0</td>\n",
       "      <td>1</td>\n",
       "      <td>0</td>\n",
       "      <td>0</td>\n",
       "      <td>0</td>\n",
       "      <td>0</td>\n",
       "      <td>0</td>\n",
       "    </tr>\n",
       "    <tr>\n",
       "      <th>page_1</th>\n",
       "      <td>0</td>\n",
       "      <td>0</td>\n",
       "      <td>0</td>\n",
       "      <td>0</td>\n",
       "      <td>0</td>\n",
       "      <td>0</td>\n",
       "      <td>0</td>\n",
       "      <td>0</td>\n",
       "      <td>1</td>\n",
       "    </tr>\n",
       "    <tr>\n",
       "      <th>page_2</th>\n",
       "      <td>0</td>\n",
       "      <td>0</td>\n",
       "      <td>0</td>\n",
       "      <td>0</td>\n",
       "      <td>0</td>\n",
       "      <td>0</td>\n",
       "      <td>1</td>\n",
       "      <td>0</td>\n",
       "      <td>0</td>\n",
       "    </tr>\n",
       "    <tr>\n",
       "      <th>page_3</th>\n",
       "      <td>0</td>\n",
       "      <td>0</td>\n",
       "      <td>1</td>\n",
       "      <td>0</td>\n",
       "      <td>0</td>\n",
       "      <td>0</td>\n",
       "      <td>0</td>\n",
       "      <td>0</td>\n",
       "      <td>0</td>\n",
       "    </tr>\n",
       "    <tr>\n",
       "      <th>page_4</th>\n",
       "      <td>1</td>\n",
       "      <td>0</td>\n",
       "      <td>0</td>\n",
       "      <td>0</td>\n",
       "      <td>0</td>\n",
       "      <td>0</td>\n",
       "      <td>0</td>\n",
       "      <td>0</td>\n",
       "      <td>0</td>\n",
       "    </tr>\n",
       "    <tr>\n",
       "      <th>...</th>\n",
       "      <td>...</td>\n",
       "      <td>...</td>\n",
       "      <td>...</td>\n",
       "      <td>...</td>\n",
       "      <td>...</td>\n",
       "      <td>...</td>\n",
       "      <td>...</td>\n",
       "      <td>...</td>\n",
       "      <td>...</td>\n",
       "    </tr>\n",
       "    <tr>\n",
       "      <th>page_76</th>\n",
       "      <td>1</td>\n",
       "      <td>0</td>\n",
       "      <td>0</td>\n",
       "      <td>0</td>\n",
       "      <td>0</td>\n",
       "      <td>0</td>\n",
       "      <td>0</td>\n",
       "      <td>0</td>\n",
       "      <td>0</td>\n",
       "    </tr>\n",
       "    <tr>\n",
       "      <th>page_77</th>\n",
       "      <td>0</td>\n",
       "      <td>1</td>\n",
       "      <td>0</td>\n",
       "      <td>0</td>\n",
       "      <td>0</td>\n",
       "      <td>0</td>\n",
       "      <td>0</td>\n",
       "      <td>0</td>\n",
       "      <td>0</td>\n",
       "    </tr>\n",
       "    <tr>\n",
       "      <th>page_78</th>\n",
       "      <td>0</td>\n",
       "      <td>0</td>\n",
       "      <td>0</td>\n",
       "      <td>0</td>\n",
       "      <td>1</td>\n",
       "      <td>0</td>\n",
       "      <td>0</td>\n",
       "      <td>0</td>\n",
       "      <td>0</td>\n",
       "    </tr>\n",
       "    <tr>\n",
       "      <th>page_79</th>\n",
       "      <td>0</td>\n",
       "      <td>0</td>\n",
       "      <td>0</td>\n",
       "      <td>0</td>\n",
       "      <td>0</td>\n",
       "      <td>1</td>\n",
       "      <td>0</td>\n",
       "      <td>0</td>\n",
       "      <td>0</td>\n",
       "    </tr>\n",
       "    <tr>\n",
       "      <th>page_80</th>\n",
       "      <td>0</td>\n",
       "      <td>0</td>\n",
       "      <td>0</td>\n",
       "      <td>0</td>\n",
       "      <td>0</td>\n",
       "      <td>0</td>\n",
       "      <td>0</td>\n",
       "      <td>1</td>\n",
       "      <td>0</td>\n",
       "    </tr>\n",
       "  </tbody>\n",
       "</table>\n",
       "<p>81 rows × 9 columns</p>\n",
       "</div>"
      ],
      "text/plain": [
       "         Piano Low  Piano Mid  Piano High  Double Bass  Tuba  Viola  Oboe  \\\n",
       "page_0           0          0           0            1     0      0     0   \n",
       "page_1           0          0           0            0     0      0     0   \n",
       "page_2           0          0           0            0     0      0     1   \n",
       "page_3           0          0           1            0     0      0     0   \n",
       "page_4           1          0           0            0     0      0     0   \n",
       "...            ...        ...         ...          ...   ...    ...   ...   \n",
       "page_76          1          0           0            0     0      0     0   \n",
       "page_77          0          1           0            0     0      0     0   \n",
       "page_78          0          0           0            0     1      0     0   \n",
       "page_79          0          0           0            0     0      1     0   \n",
       "page_80          0          0           0            0     0      0     0   \n",
       "\n",
       "         Violin  Flute  \n",
       "page_0        0      0  \n",
       "page_1        0      1  \n",
       "page_2        0      0  \n",
       "page_3        0      0  \n",
       "page_4        0      0  \n",
       "...         ...    ...  \n",
       "page_76       0      0  \n",
       "page_77       0      0  \n",
       "page_78       0      0  \n",
       "page_79       0      0  \n",
       "page_80       1      0  \n",
       "\n",
       "[81 rows x 9 columns]"
      ]
     },
     "execution_count": 5,
     "metadata": {},
     "output_type": "execute_result"
    }
   ],
   "source": [
    "NTRIALS = len(META_DICT[\"waet\"][\"page\"])\n",
    "NINSTR  = len(STRVALUE_2_INSTR_DICT)\n",
    "\n",
    "COMPARISON_DICT = {}\n",
    "PAGES = META_DICT[\"waet\"][\"page\"]\n",
    "for cur_page in PAGES:\n",
    "    page_id   = cur_page[\"@id\"]\n",
    "    elem_info = cur_page[\"audioelement\"]\n",
    "    audio_id  = elem_info[\"@id\"]\n",
    "    cur_instr = audio_id.split('_')[INSTIX]\n",
    "    instr_lab = INSTR_2_LABEL_DICT[cur_instr]\n",
    "    \n",
    "    truth_array = [\n",
    "        1 if i is instr_lab else 0 \n",
    "            for i in range(NINSTR)\n",
    "    ]\n",
    "    \n",
    "    COMPARISON_DICT[page_id] = truth_array\n",
    "    \n",
    "COMPARISON_DF = pd.DataFrame.from_dict(\n",
    "    COMPARISON_DICT, \n",
    "    orient='index', \n",
    "    columns=STRVALUE_2_INSTR_DICT.values()\n",
    ")\n",
    "COMPARISON_DF"
   ]
  },
  {
   "cell_type": "markdown",
   "metadata": {},
   "source": [
    "### 1.0 Prepare Participants Results"
   ]
  },
  {
   "cell_type": "markdown",
   "metadata": {},
   "source": [
    "##### 1.1 Setup Helper functions "
   ]
  },
  {
   "cell_type": "code",
   "execution_count": 6,
   "metadata": {},
   "outputs": [],
   "source": [
    "def DataFrame_zeros_like(df):\n",
    "    return df.applymap(lambda x: 0)\n",
    "\n",
    "def make_guess_dataframe(results_dict):\n",
    "    # Construct an empty DataFrame with the same index/column...\n",
    "    # size and labels of `COMPARISON_DF`\n",
    "    guess_df = DataFrame_zeros_like(COMPARISON_DF)\n",
    "    \n",
    "    # Instantiate a list to store trial states\n",
    "    trial_states = []\n",
    "    \n",
    "    # Iterate over every trial and update the empty...\n",
    "    # DataFrame with the corresponding participants guess\n",
    "    for trial in results_dict:\n",
    "        # Extract which trial is referenced\n",
    "        trial_ref = trial[\"@ref\"]\n",
    "        \n",
    "        # Extract completion state\n",
    "        state = trial[\"@state\"]\n",
    "        trial_states.append(state == \"complete\")\n",
    "        \n",
    "        # Extract participants response... \n",
    "        # (encoded value btw. 0.17 - 1.0)\n",
    "        response_enc = trial[\"audioelement\"]\n",
    "        response_enc = float(response_enc[\"value\"])\n",
    "        response_enc = int(response_enc * 100.)\n",
    "        response_dec = str(response_enc)\n",
    "        \n",
    "        # Get the instrument string label of the response\n",
    "        instr_label = STRVALUE_2_INSTR_DICT[response_dec]\n",
    "        \n",
    "        # Update the correct row/col of the DataFrame\n",
    "        guess_df.at[trial_ref, instr_label] = 1\n",
    "        \n",
    "    # Return the DataFrame for this participant..\n",
    "    # along with the completion states for each trial\n",
    "    return guess_df, trial_states"
   ]
  },
  {
   "cell_type": "markdown",
   "metadata": {},
   "source": [
    "##### 1.2 Compute amount of correct/wrong answers and accumulate into a single DataFrame "
   ]
  },
  {
   "cell_type": "code",
   "execution_count": 7,
   "metadata": {},
   "outputs": [],
   "source": [
    "responses = []\n",
    "responses_instr = []\n",
    "responses_stats = []\n",
    "\n",
    "for ix, data_dict in enumerate(all_data):\n",
    "    data = data_dict[\"waetresult\"]\n",
    "    data = data[\"page\"]\n",
    "    \n",
    "    res, states = make_guess_dataframe(data)\n",
    "    assert all(states)\n",
    "    \n",
    "    match_df = COMPARISON_DF * res\n",
    "    match_df_agg = match_df.join([algorithm_sr, articulation_sr])\n",
    "    match_df_agg = match_df_agg.groupby(\n",
    "        ['Algorithm', 'Articulation']\n",
    "    ).sum()\n",
    "    responses_instr.append(match_df_agg)\n",
    "    responses.append(match_df_agg.sum(axis=1))\n",
    "    \n",
    "    analysis_df = match_df.join(algorithm_sr).groupby(\n",
    "        ['Algorithm']\n",
    "    ).sum().sum(axis=1)\n",
    "    \n",
    "    responses_stats.append(analysis_df)\n",
    "    \n",
    "    \n",
    "agg_responses_df = pd.DataFrame().append(responses).T\n",
    "agg_responses_instr_df = pd.DataFrame().append(responses_instr)\n",
    "agg_analysis_df = pd.DataFrame().append(responses_stats)"
   ]
  },
  {
   "cell_type": "markdown",
   "metadata": {},
   "source": [
    "##### 1.3 Make some pretty plots "
   ]
  },
  {
   "cell_type": "code",
   "execution_count": 8,
   "metadata": {},
   "outputs": [
    {
     "data": {
      "image/png": "[encoded data removed]",
      "text/plain": [
       "<Figure size 840x600 with 1 Axes>"
      ]
     },
     "metadata": {},
     "output_type": "display_data"
    }
   ],
   "source": [
    "sns_bp_df = agg_responses_df.reset_index().melt(id_vars=[\n",
    "    'Algorithm', 'Articulation'\n",
    "], value_name='Amount Correct Responses')\n",
    "\n",
    "fig, ax = plt.subplots(1, dpi=120, figsize=(7, 5))\n",
    "bp = sns.boxplot(\n",
    "    data=sns_bp_df, \n",
    "    x='Algorithm', \n",
    "    y='Amount Correct Responses', \n",
    "    hue='Articulation',\n",
    "    ax=ax\n",
    ")\n",
    "plt.ylim(-1, 15)\n",
    "ax.set(ylabel=None)\n",
    "plt.show()"
   ]
  },
  {
   "cell_type": "code",
   "execution_count": 9,
   "metadata": {},
   "outputs": [
    {
     "data": {
      "image/png": "[encoded data removed]",
      "text/plain": [
       "<Figure size 1145.93x360 with 3 Axes>"
      ]
     },
     "metadata": {},
     "output_type": "display_data"
    }
   ],
   "source": [
    "sns_cp_df = agg_responses_instr_df.reset_index().melt(id_vars=[\n",
    "    'Algorithm', 'Articulation'\n",
    "], value_name='Amount Correct Responses', var_name='Instrument')\n",
    "\n",
    "\n",
    "cp = sns.catplot(\n",
    "    data=sns_cp_df,\n",
    "    kind=\"bar\",\n",
    "    col='Algorithm',\n",
    "    y='Amount Correct Responses',\n",
    "    x='Instrument',\n",
    "    hue='Articulation',\n",
    "    #col_wrap=4\n",
    ")"
   ]
  },
  {
   "cell_type": "markdown",
   "metadata": {},
   "source": [
    "##### 1.4 Perform statistical tests"
   ]
  },
  {
   "cell_type": "code",
   "execution_count": 10,
   "metadata": {},
   "outputs": [
    {
     "data": {
      "image/png": "[encoded data removed]",
      "text/plain": [
       "<Figure size 840x600 with 1 Axes>"
      ]
     },
     "metadata": {},
     "output_type": "display_data"
    }
   ],
   "source": [
    "agg_analysis_df_ro = agg_analysis_df[[CONDITION0, CONDITION1, CONDITION2]]\n",
    "\n",
    "fig, ax = plt.subplots(1, dpi=120, figsize=(7, 5))\n",
    "bp = sns.boxplot(\n",
    "    data=agg_analysis_df_ro, \n",
    "    ax=ax\n",
    ")\n",
    "\n",
    "plt.ylim(-1, 15)\n",
    "ax.set(ylabel='Amount Correct Responses')\n",
    "plt.show()"
   ]
  },
  {
   "cell_type": "markdown",
   "metadata": {},
   "source": [
    "### Fetch Conditions "
   ]
  },
  {
   "cell_type": "code",
   "execution_count": 11,
   "metadata": {},
   "outputs": [
    {
     "name": "stdout",
     "output_type": "stream",
     "text": [
      "Data Shapes:\n",
      "(30,) (30,) (30,)\n",
      "\n",
      "Medians:\n",
      "[NoAlgo: 5.0] [CompFreq: 5.0] [Reinforced: 3.0]\n"
     ]
    }
   ],
   "source": [
    "c0 = agg_analysis_df[CONDITION0].to_numpy()\n",
    "c1 = agg_analysis_df[CONDITION1].to_numpy()\n",
    "c2 = agg_analysis_df[CONDITION2].to_numpy()\n",
    "print(\"Data Shapes:\")\n",
    "print(c0.shape, c1.shape, c2.shape)\n",
    "\n",
    "# Compute the medians of each condition\n",
    "mdn0 = np.median(c0)\n",
    "mdn1 = np.median(c1)\n",
    "mdn2 = np.median(c2)\n",
    "print(\"\\nMedians:\")\n",
    "print(f\"[{CONDITION0}: {mdn0}]\", f\"[{CONDITION1}: {mdn1}]\", f\"[{CONDITION2}: {mdn2}]\")"
   ]
  },
  {
   "cell_type": "markdown",
   "metadata": {},
   "source": [
    "### Friedman \"ANOVA\" "
   ]
  },
  {
   "cell_type": "code",
   "execution_count": 12,
   "metadata": {},
   "outputs": [
    {
     "name": "stdout",
     "output_type": "stream",
     "text": [
      "FM ANOVA Result:\n",
      "[Stat: 9.0192] [p: 0.0110]\n"
     ]
    }
   ],
   "source": [
    "fm_stat, fm_p = scipy.stats.friedmanchisquare(c0, c1, c2)\n",
    "print(\"FM ANOVA Result:\")\n",
    "print(f\"[Stat: {fm_stat:.4f}]\", f\"[p: {fm_p:.4f}]\")"
   ]
  },
  {
   "cell_type": "markdown",
   "metadata": {},
   "source": [
    "##  Post-hoc Wilcoxon Signed Rank Test\n",
    "<b>(Non-parametric equivalent to dependent t-test)</b>"
   ]
  },
  {
   "cell_type": "code",
   "execution_count": 13,
   "metadata": {},
   "outputs": [],
   "source": [
    "def wilcoxon_extra(x, y, alt='two-sided'):\n",
    "    wsr_stat, wsr_p = scipy.stats.wilcoxon(\n",
    "        x = x,\n",
    "        y = y,\n",
    "        mode = 'auto',\n",
    "        alternative = alt\n",
    "    )\n",
    "    wsr_z = scipy.stats.norm.isf(wsr_p / 2) # Retrieve z-score from p-value\n",
    "    wsr_r = wsr_z / np.sqrt(len(x)*2)       # Retrieve effect-size from z-score\n",
    "    return wsr_stat, wsr_p, wsr_z, wsr_r\n",
    "\n",
    "def format_wilcoxon(wres):\n",
    "    T, p, z, r = wres\n",
    "    out_format = (\n",
    "        f\"[Stat: {T:.4f}]\",\n",
    "        f\"[p: {p:.4f}]\",\n",
    "        f\"[z: {z:.4f}]\",\n",
    "        f\"[r: {r:.4f}]\"\n",
    "    )\n",
    "    return out_format"
   ]
  },
  {
   "cell_type": "markdown",
   "metadata": {},
   "source": [
    "#####  Check if difference in medians btw NoAlgo and CompFreq"
   ]
  },
  {
   "cell_type": "code",
   "execution_count": 14,
   "metadata": {},
   "outputs": [
    {
     "name": "stdout",
     "output_type": "stream",
     "text": [
      "Cond: NoAlgo v. CompFreq\n",
      "[Stat: 118.0000] [p: 0.3553] [z: 0.9243] [r: 0.1193]\n"
     ]
    }
   ],
   "source": [
    "wres0 = wilcoxon_extra(c0, c1)\n",
    "pformat = format_wilcoxon(wres0)\n",
    "\n",
    "print(\"Cond: NoAlgo v. CompFreq\")\n",
    "print(*pformat)"
   ]
  },
  {
   "cell_type": "markdown",
   "metadata": {},
   "source": [
    "#####  Check if difference in medians btw NoAlgo and Reinforced"
   ]
  },
  {
   "cell_type": "code",
   "execution_count": 15,
   "metadata": {},
   "outputs": [
    {
     "name": "stdout",
     "output_type": "stream",
     "text": [
      "Cond: NoAlgo v. Reinforced\n",
      "[Stat: 66.0000] [p: 0.0030] [z: 2.9722] [r: 0.3837]\n"
     ]
    }
   ],
   "source": [
    "wres1 = wilcoxon_extra(c0, c2)\n",
    "pformat = format_wilcoxon(wres1)\n",
    "\n",
    "print(\"Cond: NoAlgo v. Reinforced\")\n",
    "print(*pformat)"
   ]
  },
  {
   "cell_type": "markdown",
   "metadata": {},
   "source": [
    "#####  Check if difference in medians btw CompFreq and Reinforced"
   ]
  },
  {
   "cell_type": "code",
   "execution_count": 16,
   "metadata": {},
   "outputs": [
    {
     "name": "stdout",
     "output_type": "stream",
     "text": [
      "Cond: Compfreg v. Reinforced\n",
      "[Stat: 58.0000] [p: 0.0081] [z: 2.6492] [r: 0.3420]\n"
     ]
    }
   ],
   "source": [
    "wres1 = wilcoxon_extra(c1, c2)\n",
    "pformat = format_wilcoxon(wres1)\n",
    "\n",
    "print(\"Cond: Compfreg v. Reinforced\")\n",
    "print(*pformat)"
   ]
  }
 ],
 "metadata": {
  "kernelspec": {
   "display_name": "Python 3 (ipykernel)",
   "language": "python",
   "name": "python3"
  },
  "language_info": {
   "codemirror_mode": {
    "name": "ipython",
    "version": 3
   },
   "file_extension": ".py",
   "mimetype": "text/x-python",
   "name": "python",
   "nbconvert_exporter": "python",
   "pygments_lexer": "ipython3",
   "version": "3.9.7"
  }
 },
 "nbformat": 4,
 "nbformat_minor": 2
}
