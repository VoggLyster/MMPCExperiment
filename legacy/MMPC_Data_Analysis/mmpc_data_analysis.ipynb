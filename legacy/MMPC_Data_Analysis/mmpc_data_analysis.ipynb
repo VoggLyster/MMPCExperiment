{
 "cells": [
  {
   "cell_type": "code",
   "execution_count": 17,
   "metadata": {},
   "outputs": [],
   "source": [
    "import os\n",
    "import glob\n",
    "import json\n",
    "import scipy\n",
    "import numpy as np\n",
    "import pandas as pd\n",
    "\n",
    "import seaborn as sns\n",
    "sns.set_theme()\n",
    "sns.set_context(\"paper\")\n",
    "\n",
    "import matplotlib.pyplot as plt"
   ]
  },
  {
   "cell_type": "markdown",
   "metadata": {},
   "source": [
    "### i. Load experiment results from .json files"
   ]
  },
  {
   "cell_type": "code",
   "execution_count": 2,
   "metadata": {},
   "outputs": [
    {
     "name": "stdout",
     "output_type": "stream",
     "text": [
      "Number of participants (N):  12\n"
     ]
    }
   ],
   "source": [
    "all_data = []\n",
    "for path in glob.iglob(\"./Experiment_Results/*.json\"):\n",
    "    with open(path, 'r') as f:\n",
    "        jsonobj = json.load(f)\n",
    "    all_data.append(jsonobj)\n",
    "print(\"Number of participants (N): \", len(all_data))\n",
    "\n",
    "# Ensure all responses are complete\n",
    "assert all([d[\"waetresult\"][\"@state\"] == \"complete\" for d in all_data])"
   ]
  },
  {
   "cell_type": "markdown",
   "metadata": {},
   "source": [
    "### ii. Extract, sort and perform relevant transformations on the .json data"
   ]
  },
  {
   "cell_type": "markdown",
   "metadata": {},
   "source": [
    "##### Extract top-level reference information"
   ]
  },
  {
   "cell_type": "code",
   "execution_count": 3,
   "metadata": {},
   "outputs": [
    {
     "name": "stdout",
     "output_type": "stream",
     "text": [
      "{'0': 'Piano', '17': 'Double Bass', '34': 'Tuba', '50': 'Viola', '66': 'Oboe', '83': 'Violin', '100': 'Flute'}\n",
      "{'Piano': 0, 'Double Bass': 1, 'Tuba': 2, 'Viola': 3, 'Oboe': 4, 'Violin': 5, 'Flute': 6, 'Bass': 1, 'PianoLow': 0, 'PianoMid': 0, 'PianoHigh': 0}\n",
      "{'Piano': 0, 'Double Bass': 0, 'Tuba': 0, 'Viola': 0, 'Oboe': 0, 'Violin': 0, 'Flute': 0, 'Bass': 0, 'PianoLow': 0, 'PianoMid': 0, 'PianoHigh': 0}\n"
     ]
    }
   ],
   "source": [
    "META_DICT  = all_data[0][\"waetresult\"]\n",
    "PAGES      = META_DICT[\"waet\"][\"page\"]\n",
    "PAGE_0     = PAGES[0]\n",
    "SCALE_LABS = PAGE_0[\"interface\"][\"scales\"][\"scalelabel\"]\n",
    "\n",
    "STRVALUE_2_INSTR_DICT = {\n",
    "    obj[\"@position\"]: obj[\"#text\"] for obj in SCALE_LABS\n",
    "}\n",
    "\n",
    "INSTR_2_LABEL_DICT = {\n",
    "    instr: ix for ix, instr in \n",
    "        enumerate(STRVALUE_2_INSTR_DICT.values())\n",
    "}\n",
    "\n",
    "# Add auxillary keys to the transformation dict,\n",
    "# to account for the variation in naming schemes\n",
    "INSTR_2_LABEL_DICT.update({\n",
    "    \"Bass\"     : INSTR_2_LABEL_DICT[\"Double Bass\"],\n",
    "    \"PianoLow\" : INSTR_2_LABEL_DICT[\"Piano\"],\n",
    "    \"PianoMid\" : INSTR_2_LABEL_DICT[\"Piano\"],\n",
    "    \"PianoHigh\": INSTR_2_LABEL_DICT[\"Piano\"]\n",
    "})\n",
    "\n",
    "INSTR_COUNTS = {\n",
    "    k: 0 for k in INSTR_2_LABEL_DICT.keys()\n",
    "}\n",
    "\n",
    "print(STRVALUE_2_INSTR_DICT)\n",
    "print(INSTR_2_LABEL_DICT)\n",
    "print(INSTR_COUNTS)"
   ]
  },
  {
   "cell_type": "markdown",
   "metadata": {},
   "source": [
    "##### Construct trial indexers to split results across experimental conditions (articulation, algo)"
   ]
  },
  {
   "cell_type": "code",
   "execution_count": 4,
   "metadata": {},
   "outputs": [
    {
     "name": "stdout",
     "output_type": "stream",
     "text": [
      "{'Piano': 0, 'Double Bass': 0, 'Tuba': 9, 'Viola': 9, 'Oboe': 9, 'Violin': 9, 'Flute': 9, 'Bass': 9, 'PianoLow': 9, 'PianoMid': 9, 'PianoHigh': 9}\n"
     ]
    }
   ],
   "source": [
    "CONDITION0 = 'NoAlgo'\n",
    "CONDITION1 = 'CompFreq'\n",
    "CONDITION2 = 'Reinforced'\n",
    "INTERACT0 = 'Staccato'\n",
    "INTERACT1 = 'Legato'\n",
    "INTERACT2 = 'Mix'\n",
    "\n",
    "ALGOIX = 0\n",
    "ARTIIX = 1\n",
    "INSTIX = 2\n",
    "algorithm_dict    = {}\n",
    "articulation_dict = {}\n",
    "\n",
    "for cur_page in PAGES:\n",
    "    page_id   = cur_page[\"@id\"]\n",
    "    elem_info = cur_page[\"audioelement\"]\n",
    "    audio_id  = elem_info[\"@id\"]\n",
    "    cond_info = audio_id.split('_')    \n",
    "    algorithm_dict[page_id]    = cond_info[ALGOIX]\n",
    "    articulation_dict[page_id] = cond_info[ARTIIX]\n",
    "    INSTR_COUNTS[cond_info[INSTIX]] += 1\n",
    "    \n",
    "algorithm_sr    = pd.Series(data=algorithm_dict   , name=\"Algorithm\")\n",
    "articulation_sr = pd.Series(data=articulation_dict, name=\"Articulation\")\n",
    "print(INSTR_COUNTS)"
   ]
  },
  {
   "cell_type": "markdown",
   "metadata": {},
   "source": [
    "##### Construct a comparison matrix with ground-truth values across all trials "
   ]
  },
  {
   "cell_type": "code",
   "execution_count": 5,
   "metadata": {},
   "outputs": [
    {
     "data": {
      "text/html": [
       "<div>\n",
       "<style scoped>\n",
       "    .dataframe tbody tr th:only-of-type {\n",
       "        vertical-align: middle;\n",
       "    }\n",
       "\n",
       "    .dataframe tbody tr th {\n",
       "        vertical-align: top;\n",
       "    }\n",
       "\n",
       "    .dataframe thead th {\n",
       "        text-align: right;\n",
       "    }\n",
       "</style>\n",
       "<table border=\"1\" class=\"dataframe\">\n",
       "  <thead>\n",
       "    <tr style=\"text-align: right;\">\n",
       "      <th></th>\n",
       "      <th>Piano</th>\n",
       "      <th>Double Bass</th>\n",
       "      <th>Tuba</th>\n",
       "      <th>Viola</th>\n",
       "      <th>Oboe</th>\n",
       "      <th>Violin</th>\n",
       "      <th>Flute</th>\n",
       "    </tr>\n",
       "  </thead>\n",
       "  <tbody>\n",
       "    <tr>\n",
       "      <th>page_0</th>\n",
       "      <td>0</td>\n",
       "      <td>1</td>\n",
       "      <td>0</td>\n",
       "      <td>0</td>\n",
       "      <td>0</td>\n",
       "      <td>0</td>\n",
       "      <td>0</td>\n",
       "    </tr>\n",
       "    <tr>\n",
       "      <th>page_1</th>\n",
       "      <td>0</td>\n",
       "      <td>0</td>\n",
       "      <td>0</td>\n",
       "      <td>0</td>\n",
       "      <td>0</td>\n",
       "      <td>0</td>\n",
       "      <td>1</td>\n",
       "    </tr>\n",
       "    <tr>\n",
       "      <th>page_2</th>\n",
       "      <td>0</td>\n",
       "      <td>0</td>\n",
       "      <td>0</td>\n",
       "      <td>0</td>\n",
       "      <td>1</td>\n",
       "      <td>0</td>\n",
       "      <td>0</td>\n",
       "    </tr>\n",
       "    <tr>\n",
       "      <th>page_3</th>\n",
       "      <td>1</td>\n",
       "      <td>0</td>\n",
       "      <td>0</td>\n",
       "      <td>0</td>\n",
       "      <td>0</td>\n",
       "      <td>0</td>\n",
       "      <td>0</td>\n",
       "    </tr>\n",
       "    <tr>\n",
       "      <th>page_4</th>\n",
       "      <td>1</td>\n",
       "      <td>0</td>\n",
       "      <td>0</td>\n",
       "      <td>0</td>\n",
       "      <td>0</td>\n",
       "      <td>0</td>\n",
       "      <td>0</td>\n",
       "    </tr>\n",
       "    <tr>\n",
       "      <th>...</th>\n",
       "      <td>...</td>\n",
       "      <td>...</td>\n",
       "      <td>...</td>\n",
       "      <td>...</td>\n",
       "      <td>...</td>\n",
       "      <td>...</td>\n",
       "      <td>...</td>\n",
       "    </tr>\n",
       "    <tr>\n",
       "      <th>page_76</th>\n",
       "      <td>1</td>\n",
       "      <td>0</td>\n",
       "      <td>0</td>\n",
       "      <td>0</td>\n",
       "      <td>0</td>\n",
       "      <td>0</td>\n",
       "      <td>0</td>\n",
       "    </tr>\n",
       "    <tr>\n",
       "      <th>page_77</th>\n",
       "      <td>1</td>\n",
       "      <td>0</td>\n",
       "      <td>0</td>\n",
       "      <td>0</td>\n",
       "      <td>0</td>\n",
       "      <td>0</td>\n",
       "      <td>0</td>\n",
       "    </tr>\n",
       "    <tr>\n",
       "      <th>page_78</th>\n",
       "      <td>0</td>\n",
       "      <td>0</td>\n",
       "      <td>1</td>\n",
       "      <td>0</td>\n",
       "      <td>0</td>\n",
       "      <td>0</td>\n",
       "      <td>0</td>\n",
       "    </tr>\n",
       "    <tr>\n",
       "      <th>page_79</th>\n",
       "      <td>0</td>\n",
       "      <td>0</td>\n",
       "      <td>0</td>\n",
       "      <td>1</td>\n",
       "      <td>0</td>\n",
       "      <td>0</td>\n",
       "      <td>0</td>\n",
       "    </tr>\n",
       "    <tr>\n",
       "      <th>page_80</th>\n",
       "      <td>0</td>\n",
       "      <td>0</td>\n",
       "      <td>0</td>\n",
       "      <td>0</td>\n",
       "      <td>0</td>\n",
       "      <td>1</td>\n",
       "      <td>0</td>\n",
       "    </tr>\n",
       "  </tbody>\n",
       "</table>\n",
       "<p>81 rows × 7 columns</p>\n",
       "</div>"
      ],
      "text/plain": [
       "         Piano  Double Bass  Tuba  Viola  Oboe  Violin  Flute\n",
       "page_0       0            1     0      0     0       0      0\n",
       "page_1       0            0     0      0     0       0      1\n",
       "page_2       0            0     0      0     1       0      0\n",
       "page_3       1            0     0      0     0       0      0\n",
       "page_4       1            0     0      0     0       0      0\n",
       "...        ...          ...   ...    ...   ...     ...    ...\n",
       "page_76      1            0     0      0     0       0      0\n",
       "page_77      1            0     0      0     0       0      0\n",
       "page_78      0            0     1      0     0       0      0\n",
       "page_79      0            0     0      1     0       0      0\n",
       "page_80      0            0     0      0     0       1      0\n",
       "\n",
       "[81 rows x 7 columns]"
      ]
     },
     "execution_count": 5,
     "metadata": {},
     "output_type": "execute_result"
    }
   ],
   "source": [
    "NTRIALS = len(META_DICT[\"waet\"][\"page\"])\n",
    "NINSTR  = len(STRVALUE_2_INSTR_DICT)\n",
    "\n",
    "COMPARISON_DICT = {}\n",
    "PAGES = META_DICT[\"waet\"][\"page\"]\n",
    "for cur_page in PAGES:\n",
    "    page_id   = cur_page[\"@id\"]\n",
    "    elem_info = cur_page[\"audioelement\"]\n",
    "    audio_id  = elem_info[\"@id\"]\n",
    "    cur_instr = audio_id.split('_')[INSTIX]\n",
    "    instr_lab = INSTR_2_LABEL_DICT[cur_instr]\n",
    "    \n",
    "    truth_array = [\n",
    "        1 if i is instr_lab else 0 \n",
    "            for i in range(NINSTR)\n",
    "    ]\n",
    "    \n",
    "    COMPARISON_DICT[page_id] = truth_array\n",
    "    \n",
    "COMPARISON_DF = pd.DataFrame.from_dict(\n",
    "    COMPARISON_DICT, \n",
    "    orient='index', \n",
    "    columns=STRVALUE_2_INSTR_DICT.values()\n",
    ")\n",
    "COMPARISON_DF"
   ]
  },
  {
   "cell_type": "markdown",
   "metadata": {},
   "source": [
    "### 1.0 Prepare Participants Results"
   ]
  },
  {
   "cell_type": "markdown",
   "metadata": {},
   "source": [
    "##### 1.1 Setup Helper functions "
   ]
  },
  {
   "cell_type": "code",
   "execution_count": 6,
   "metadata": {},
   "outputs": [],
   "source": [
    "def DataFrame_zeros_like(df):\n",
    "    return df.applymap(lambda x: 0)\n",
    "\n",
    "def make_guess_dataframe(results_dict):\n",
    "    # Construct an empty DataFrame with the same index/column...\n",
    "    # size and labels of `COMPARISON_DF`\n",
    "    guess_df = DataFrame_zeros_like(COMPARISON_DF)\n",
    "    \n",
    "    # Instantiate a list to store trial states\n",
    "    trial_states = []\n",
    "    \n",
    "    # Iterate over every trial and update the empty...\n",
    "    # DataFrame with the corresponding participants guess\n",
    "    for trial in results_dict:\n",
    "        # Extract which trial is referenced\n",
    "        trial_ref = trial[\"@ref\"]\n",
    "        \n",
    "        # Extract completion state\n",
    "        state = trial[\"@state\"]\n",
    "        trial_states.append(state == \"complete\")\n",
    "        \n",
    "        # Extract participants response... \n",
    "        # (encoded value btw. 0.17 - 1.0)\n",
    "        response_enc = trial[\"audioelement\"]\n",
    "        response_enc = float(response_enc[\"value\"])\n",
    "        response_enc = int(response_enc * 100.)\n",
    "        response_dec = str(response_enc)\n",
    "        \n",
    "        # Get the instrument string label of the response\n",
    "        instr_label = STRVALUE_2_INSTR_DICT[response_dec]\n",
    "        \n",
    "        # Update the correct row/col of the DataFrame\n",
    "        guess_df.at[trial_ref, instr_label] = 1\n",
    "        \n",
    "    # Return the DataFrame for this participant..\n",
    "    # along with the completion states for each trial\n",
    "    return guess_df, trial_states"
   ]
  },
  {
   "cell_type": "markdown",
   "metadata": {},
   "source": [
    "##### 1.2 Compute amount of correct/wrong answers and accumulate into a single DataFrame "
   ]
  },
  {
   "cell_type": "code",
   "execution_count": 7,
   "metadata": {},
   "outputs": [],
   "source": [
    "responses = []\n",
    "responses_instr = []\n",
    "responses_stats = []\n",
    "\n",
    "for ix, data_dict in enumerate(all_data):\n",
    "    data = data_dict[\"waetresult\"]\n",
    "    data = data[\"page\"]\n",
    "    \n",
    "    res, states = make_guess_dataframe(data)\n",
    "    assert all(states)\n",
    "    \n",
    "    match_df = COMPARISON_DF * res\n",
    "    match_df_agg = match_df.join([algorithm_sr, articulation_sr])\n",
    "    match_df_agg = match_df_agg.groupby(\n",
    "        ['Algorithm', 'Articulation']\n",
    "    ).sum()\n",
    "    responses_instr.append(match_df_agg)\n",
    "    responses.append(match_df_agg.sum(axis=1))\n",
    "    \n",
    "    analysis_df = match_df.join(algorithm_sr).groupby(\n",
    "        ['Algorithm']\n",
    "    ).sum().sum(axis=1)\n",
    "    \n",
    "    responses_stats.append(analysis_df)\n",
    "    \n",
    "    \n",
    "agg_responses_df = pd.DataFrame().append(responses).T\n",
    "agg_responses_instr_df = pd.DataFrame().append(responses_instr)\n",
    "agg_analysis_df = pd.DataFrame().append(responses_stats)"
   ]
  },
  {
   "cell_type": "markdown",
   "metadata": {},
   "source": [
    "##### 1.3 Make some pretty plots "
   ]
  },
  {
   "cell_type": "code",
   "execution_count": 30,
   "metadata": {},
   "outputs": [
    {
     "data": {
      "image/png": "[encoded data removed]",
      "text/plain": [
       "<Figure size 840x600 with 1 Axes>"
      ]
     },
     "metadata": {},
     "output_type": "display_data"
    }
   ],
   "source": [
    "sns_bp_df = agg_responses_df.reset_index().melt(id_vars=[\n",
    "    'Algorithm', 'Articulation'\n",
    "], value_name='Amount Correct Responses')\n",
    "\n",
    "fig, ax = plt.subplots(1, dpi=120, figsize=(7, 5))\n",
    "bp = sns.boxplot(\n",
    "    data=sns_bp_df, \n",
    "    x='Algorithm', \n",
    "    y='Amount Correct Responses', \n",
    "    hue='Articulation',\n",
    "    ax=ax\n",
    ")\n",
    "plt.ylim(-1, 15)\n",
    "ax.set(ylabel=None)\n",
    "plt.show()"
   ]
  },
  {
   "cell_type": "code",
   "execution_count": 9,
   "metadata": {},
   "outputs": [
    {
     "data": {
      "image/png": "[encoded data removed]",
      "text/plain": [
       "<Figure size 1145.93x360 with 3 Axes>"
      ]
     },
     "metadata": {},
     "output_type": "display_data"
    }
   ],
   "source": [
    "sns_cp_df = agg_responses_instr_df.reset_index().melt(id_vars=[\n",
    "    'Algorithm', 'Articulation'\n",
    "], value_name='Amount Correct Responses', var_name='Instrument')\n",
    "\n",
    "\n",
    "cp = sns.catplot(\n",
    "    data=sns_cp_df,\n",
    "    kind=\"box\",\n",
    "    col='Algorithm',\n",
    "    y='Amount Correct Responses',\n",
    "    x='Instrument',\n",
    "    hue='Articulation',\n",
    "    #col_wrap=4\n",
    ")"
   ]
  },
  {
   "cell_type": "markdown",
   "metadata": {},
   "source": [
    "##### 1.4 Perform statistical tests"
   ]
  },
  {
   "cell_type": "code",
   "execution_count": 31,
   "metadata": {},
   "outputs": [
    {
     "data": {
      "image/png": "[encoded data removed]",
      "text/plain": [
       "<Figure size 840x600 with 1 Axes>"
      ]
     },
     "metadata": {},
     "output_type": "display_data"
    }
   ],
   "source": [
    "agg_analysis_df_ro = agg_analysis_df[[CONDITION0, CONDITION1, CONDITION2]]\n",
    "\n",
    "fig, ax = plt.subplots(1, dpi=120, figsize=(7, 5))\n",
    "bp = sns.boxplot(\n",
    "    data=agg_analysis_df_ro, \n",
    "    ax=ax\n",
    ")\n",
    "\n",
    "plt.ylim(-1, 15)\n",
    "ax.set(ylabel='Amount Correct Responses')\n",
    "plt.show()"
   ]
  },
  {
   "cell_type": "code",
   "execution_count": 22,
   "metadata": {},
   "outputs": [
    {
     "name": "stdout",
     "output_type": "stream",
     "text": [
      "(12,) (12,) (12,)\n",
      "5.5 8.0 4.0\n",
      "7.644444444444434 0.021879126550464843\n",
      "43.5 0.1734650786223771 1.361153838434836 0.27784436379967353\n",
      "52.0 0.04486078435221613 2.005957483574395 0.4094643567062197\n",
      "64.5 0.002463044857263393 3.0278448771848128 0.6180562474502326\n"
     ]
    }
   ],
   "source": [
    "c0 = agg_analysis_df[CONDITION0].to_numpy()\n",
    "c1 = agg_analysis_df[CONDITION1].to_numpy()\n",
    "c2 = agg_analysis_df[CONDITION2].to_numpy()\n",
    "print(c0.shape, c1.shape, c2.shape)\n",
    "\n",
    "# Compute the medians of each condition\n",
    "mdn0 = np.median(c0)\n",
    "mdn1 = np.median(c1)\n",
    "mdn2 = np.median(c2)\n",
    "print(mdn0, mdn1, mdn2)\n",
    "\n",
    "# Friedman \"ANOVA\"\n",
    "fm_stat, fm_p = scipy.stats.friedmanchisquare(c0, c1, c2)\n",
    "print(fm_stat, fm_p)\n",
    "\n",
    "# Post-hoc Wilcoxon Signed Rank Test\n",
    "# (Non-parametric equivalent to dependent t-test)\n",
    "\n",
    "# Check if difference in medians btw NoAlgo and CompFreq\n",
    "wsr_stat0, wsr_p0 = scipy.stats.wilcoxon(\n",
    "    x=c1, y=c0,\n",
    "    alternative='greater',\n",
    "    mode='approx'\n",
    ")\n",
    "# Retrieve z-score from p-value\n",
    "wsr_z0 = scipy.stats.norm.isf(wsr_p0 / 2)\n",
    "\n",
    "# Retrieve effect-size from z-score\n",
    "wsr_r0 = wsr_z0 / np.sqrt(len(c0)*2)\n",
    "print(wsr_stat0, wsr_p0, wsr_z0, wsr_r0)\n",
    "\n",
    "# Check if difference in medians btw NoAlgo and Reinforced\n",
    "wsr_stat1, wsr_p1 = scipy.stats.wilcoxon(\n",
    "    x=c0, y=c2,\n",
    "    alternative='greater',\n",
    "    mode='approx'\n",
    ")\n",
    "# Retrieve z-score from p-value\n",
    "wsr_z1 = scipy.stats.norm.isf(wsr_p1 / 2)\n",
    "\n",
    "# Retrieve effect-size from z-score\n",
    "wsr_r1 = wsr_z1 / np.sqrt(len(c0)*2)\n",
    "print(wsr_stat1, wsr_p1, wsr_z1, wsr_r1)\n",
    "\n",
    "# Check if difference in medians btw Compfreq and Reinforced\n",
    "wsr_stat2, wsr_p2 = scipy.stats.wilcoxon(\n",
    "    x=c1, y=c2,\n",
    "    alternative='greater',\n",
    "    mode='approx'\n",
    ")\n",
    "# Retrieve z-score from p-value\n",
    "wsr_z2 = scipy.stats.norm.isf(wsr_p2 / 2)\n",
    "\n",
    "# Retrieve effect-size from z-score\n",
    "wsr_r2 = wsr_z2 / np.sqrt(len(c0)*2)\n",
    "print(wsr_stat2, wsr_p2, wsr_z2, wsr_r2)"
   ]
  },
  {
   "cell_type": "markdown",
   "metadata": {},
   "source": [
    "##### 1.5 Secondary Analysis "
   ]
  },
  {
   "cell_type": "code",
   "execution_count": 69,
   "metadata": {},
   "outputs": [
    {
     "name": "stdout",
     "output_type": "stream",
     "text": [
      "16.6215384615385 0.03430030999850965\n",
      "Comparing G:NoAlgo_IA:Staccato and G:CompFreq_IA:Staccato\n",
      "0.0 0.004957885081270752 2.8097574347450824 0.5735393346764046\n",
      "Comparing G:NoAlgo_IA:Staccato and G:NoAlgo_IA:Legato\n",
      "5.5 0.04143161833669888 2.0391844892738282 0.416246790843233\n",
      "2.0 3.0 2.5\n"
     ]
    }
   ],
   "source": [
    "grp = agg_responses_df.reset_index().melt(id_vars=[\n",
    "    'Algorithm', 'Articulation'\n",
    "], value_name='Amount Correct Responses').groupby(\n",
    "    ['Algorithm']\n",
    ")\n",
    "\n",
    "grp_c0 = grp.get_group(CONDITION0).groupby(\n",
    "    ['Articulation']\n",
    ")\n",
    "grp_c1 = grp.get_group(CONDITION1).groupby(\n",
    "    ['Articulation']\n",
    ")\n",
    "grp_c2 = grp.get_group(CONDITION2).groupby(\n",
    "    ['Articulation']\n",
    ")\n",
    "\n",
    "grps = [grp_c0, grp_c1, grp_c2]\n",
    "main_conds = [CONDITION0, CONDITION1, CONDITION2]\n",
    "interacts = [INTERACT0, INTERACT1, INTERACT2]\n",
    "\n",
    "interact_conditions = []\n",
    "condition_labels = []\n",
    "\n",
    "lab = None\n",
    "for g, i in zip(grps, main_conds):\n",
    "    for ia in interacts:\n",
    "        lab = 'G:{0}_IA:{1}'.format(i, ia)\n",
    "        c_art = g.get_group(ia)\n",
    "        c_values = c_art[\"Amount Correct Responses\"].to_numpy()\n",
    "        interact_conditions.append(c_values)\n",
    "        condition_labels.append(lab)\n",
    "\n",
    "# Friedman \"ANOVA\" across all 9 articualtions under every... \n",
    "# experimental condition\n",
    "fm_stat_ia, fm_p_ia = scipy.stats.friedmanchisquare(\n",
    "    *interact_conditions\n",
    ")\n",
    "print(fm_stat_ia, fm_p_ia)\n",
    "\n",
    "\n",
    "ts = []\n",
    "res = []\n",
    "# Multiple compare all interaction conditions\n",
    "for ct, l0 in zip(interact_conditions, condition_labels):\n",
    "    for cb, l1 in zip(interact_conditions, condition_labels):\n",
    "        \n",
    "        if int(np.sum(np.abs(ct - cb))) == 0:\n",
    "            continue\n",
    "        \n",
    "        t, p = scipy.stats.wilcoxon(x=ct, y=cb,\n",
    "            #alternative='greater',\n",
    "            mode='approx'\n",
    "        )\n",
    "        \n",
    "        if p > (0.05):\n",
    "            continue\n",
    "        \n",
    "        # Retrieve z-score from p-value\n",
    "        z = scipy.stats.norm.isf(p / 2)\n",
    "\n",
    "        # Retrieve effect-size from z-score\n",
    "        r = z / np.sqrt(len(ct)*2)\n",
    "        ls = \"Comparing {0} and {1}\".format(l0, l1)\n",
    "        res.append((ls, t, p, z, r))\n",
    "        ts.append(t)\n",
    "\n",
    "_, idx = np.unique(ts, return_index=True)\n",
    "for i in idx:\n",
    "    l = res[i][0]\n",
    "    \n",
    "    if CONDITION2 in l:\n",
    "        continue\n",
    "    \n",
    "    print(l)\n",
    "    print(*res[i][1:])\n",
    "\n",
    "# No Algo Staccato\n",
    "mdn0 = np.median(interact_conditions[5])\n",
    "\n",
    "# No Algo Legato\n",
    "mdn1 = np.median(interact_conditions[3])\n",
    "\n",
    "# CompFreq Staccato\n",
    "mdn2 = np.median(interact_conditions[2])\n",
    "print(mdn0, mdn1, mdn2)"
   ]
  },
  {
   "cell_type": "code",
   "execution_count": null,
   "metadata": {},
   "outputs": [],
   "source": []
  }
 ],
 "metadata": {
  "kernelspec": {
   "display_name": "Python 3 (ipykernel)",
   "language": "python",
   "name": "python3"
  },
  "language_info": {
   "codemirror_mode": {
    "name": "ipython",
    "version": 3
   },
   "file_extension": ".py",
   "mimetype": "text/x-python",
   "name": "python",
   "nbconvert_exporter": "python",
   "pygments_lexer": "ipython3",
   "version": "3.9.7"
  }
 },
 "nbformat": 4,
 "nbformat_minor": 2
}
